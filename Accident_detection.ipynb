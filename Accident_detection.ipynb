{
  "cells": [
    {
      "cell_type": "code",
      "execution_count": 2,
      "id": "de819b2d",
      "metadata": {},
      "outputs": [
        {
          "name": "stderr",
          "output_type": "stream",
          "text": [
            "c:\\Users\\USER\\miniconda3\\envs\\accident_env\\Lib\\site-packages\\tqdm\\auto.py:21: TqdmWarning: IProgress not found. Please update jupyter and ipywidgets. See https://ipywidgets.readthedocs.io/en/stable/user_install.html\n",
            "  from .autonotebook import tqdm as notebook_tqdm\n"
          ]
        },
        {
          "name": "stdout",
          "output_type": "stream",
          "text": [
            "[{'filename': 'C:\\\\Users\\\\USER\\\\.cache\\\\huggingface\\\\datasets\\\\nexar-ai___nexar_collision_prediction\\\\default\\\\0.0.0\\\\aa97deda5a59f00bb7187739053b7c72e14374df\\\\nexar_collision_prediction-train.arrow'}]\n",
            "['video', 'time_of_event', 'time_of_alert', 'light_conditions', 'weather', 'scene', 'time_to_accident']\n",
            "1500\n",
            "train length: 1200\n",
            "valid length: 300\n"
          ]
        }
      ],
      "source": [
        "from datasets import load_dataset\n",
        "\n",
        "dataset = load_dataset(\"nexar-ai/nexar_collision_prediction\", split=\"train\")\n",
        "\n",
        "print(dataset.cache_files)\n",
        "print(dataset.column_names)\n",
        "print(len(dataset))\n",
        "\n",
        "train_valid = dataset.train_test_split(test_size=0.2, seed=42)\n",
        "train_dataset = train_valid['train']\n",
        "valid_dataset = train_valid['test']\n",
        "print(\"train length:\", len(train_dataset))\n",
        "print(\"valid length:\", len(valid_dataset))"
      ]
    },
    {
      "cell_type": "code",
      "execution_count": 4,
      "id": "ca6cb63d",
      "metadata": {},
      "outputs": [
        {
          "name": "stderr",
          "output_type": "stream",
          "text": [
            "Using the latest cached version of the dataset since nexar-ai/nexar_collision_prediction couldn't be found on the Hugging Face Hub\n",
            "Found the latest cached dataset configuration 'default' at C:\\Users\\USER\\.cache\\huggingface\\datasets\\nexar-ai___nexar_collision_prediction\\default\\0.0.0\\aa97deda5a59f00bb7187739053b7c72e14374df (last modified on Mon Oct 13 12:29:49 2025).\n"
          ]
        },
        {
          "name": "stdout",
          "output_type": "stream",
          "text": [
            "1344\n"
          ]
        }
      ],
      "source": [
        "test_dataset  = load_dataset(\"nexar-ai/nexar_collision_prediction\", split=\"test\")\n",
        "print(len(test_dataset))"
      ]
    },
    {
      "cell_type": "code",
      "execution_count": 5,
      "id": "b5d9c389",
      "metadata": {},
      "outputs": [],
      "source": [
        "import cv2\n",
        "import numpy as np\n",
        "\n",
        "def sample_frames(video_path, time_of_event=None, num_frames=16, seconds_before=7, seconds_after=7, size=(224,224)):\n",
        "    cap = cv2.VideoCapture(video_path)\n",
        "    fps = cap.get(cv2.CAP_PROP_FPS)\n",
        "    n_frames = int(cap.get(cv2.CAP_PROP_FRAME_COUNT))\n",
        "    \n",
        "    frames = []\n",
        "    \n",
        "    if time_of_event is not None and not np.isnan(time_of_event):\n",
        "        if (time_of_event - seconds_before) < 0:\n",
        "            start_time = 0\n",
        "        else:\n",
        "            start_time = time_of_event - seconds_before\n",
        "\n",
        "        if (time_of_event + seconds_after) > (n_frames / fps):\n",
        "            end_time = n_frames / fps\n",
        "        else:\n",
        "            end_time = time_of_event + seconds_after\n",
        "\n",
        "        start_frame = int(start_time * fps)\n",
        "        end_frame = int(end_time * fps)\n",
        "        selected_frame = np.linspace(start_frame, end_frame, num_frames, dtype=int)\n",
        "    else:\n",
        "        selected_frame = np.linspace(0, n_frames - 1, num_frames, dtype=int)\n",
        "    \n",
        "    for i in selected_frame:\n",
        "        cap.set(cv2.CAP_PROP_POS_FRAMES, i)\n",
        "        flag, frame = cap.read()\n",
        "        if not flag:\n",
        "            continue\n",
        "        frame = cv2.cvtColor(frame, cv2.COLOR_BGR2RGB)\n",
        "        frame = cv2.resize(frame, size)\n",
        "        frames.append(frame)\n",
        "    \n",
        "    cap.release()\n",
        "    return np.array(frames)"
      ]
    }
  ],
  "metadata": {
    "colab": {
      "provenance": []
    },
    "kernelspec": {
      "display_name": "accident_env",
      "language": "python",
      "name": "python3"
    },
    "language_info": {
      "codemirror_mode": {
        "name": "ipython",
        "version": 3
      },
      "file_extension": ".py",
      "mimetype": "text/x-python",
      "name": "python",
      "nbconvert_exporter": "python",
      "pygments_lexer": "ipython3",
      "version": "3.11.9"
    }
  },
  "nbformat": 4,
  "nbformat_minor": 5
}
